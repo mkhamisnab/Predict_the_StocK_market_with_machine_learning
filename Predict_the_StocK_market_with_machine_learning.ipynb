{
  "nbformat": 4,
  "nbformat_minor": 0,
  "metadata": {
    "colab": {
      "provenance": [],
      "authorship_tag": "ABX9TyMzkajolVjeOJFB6kc0ktnQ",
      "include_colab_link": true
    },
    "kernelspec": {
      "name": "python3",
      "display_name": "Python 3"
    },
    "language_info": {
      "name": "python"
    }
  },
  "cells": [
    {
      "cell_type": "markdown",
      "metadata": {
        "id": "view-in-github",
        "colab_type": "text"
      },
      "source": [
        "<a href=\"https://colab.research.google.com/github/mkhamisnab/Predict_the_StocK_market_with_machine_learning/blob/main/Predict_the_StocK_market_with_machine_learning.ipynb\" target=\"_parent\"><img src=\"https://colab.research.google.com/assets/colab-badge.svg\" alt=\"Open In Colab\"/></a>"
      ]
    },
    {
      "cell_type": "code",
      "execution_count": null,
      "metadata": {
        "colab": {
          "base_uri": "https://localhost:8080/"
        },
        "id": "vUJujJYxQ8r2",
        "outputId": "f8cfb9d9-eb52-4f73-e66e-350d189f87b8"
      },
      "outputs": [
        {
          "output_type": "stream",
          "name": "stdout",
          "text": [
            "Looking in indexes: https://pypi.org/simple, https://us-python.pkg.dev/colab-wheels/public/simple/\n",
            "Collecting yfinance\n",
            "  Downloading yfinance-0.2.9-py2.py3-none-any.whl (55 kB)\n",
            "\u001b[2K     \u001b[90m━━━━━━━━━━━━━━━━━━━━━━━━━━━━━━━━━━━━━━━━\u001b[0m \u001b[32m55.9/55.9 KB\u001b[0m \u001b[31m1.5 MB/s\u001b[0m eta \u001b[36m0:00:00\u001b[0m\n",
            "\u001b[?25hCollecting cryptography>=3.3.2\n",
            "  Downloading cryptography-39.0.0-cp36-abi3-manylinux_2_28_x86_64.whl (4.2 MB)\n",
            "\u001b[2K     \u001b[90m━━━━━━━━━━━━━━━━━━━━━━━━━━━━━━━━━━━━━━━━\u001b[0m \u001b[32m4.2/4.2 MB\u001b[0m \u001b[31m45.8 MB/s\u001b[0m eta \u001b[36m0:00:00\u001b[0m\n",
            "\u001b[?25hRequirement already satisfied: multitasking>=0.0.7 in /usr/local/lib/python3.8/dist-packages (from yfinance) (0.0.11)\n",
            "Collecting requests>=2.26\n",
            "  Downloading requests-2.28.2-py3-none-any.whl (62 kB)\n",
            "\u001b[2K     \u001b[90m━━━━━━━━━━━━━━━━━━━━━━━━━━━━━━━━━━━━━━━━\u001b[0m \u001b[32m62.8/62.8 KB\u001b[0m \u001b[31m3.0 MB/s\u001b[0m eta \u001b[36m0:00:00\u001b[0m\n",
            "\u001b[?25hRequirement already satisfied: numpy>=1.16.5 in /usr/local/lib/python3.8/dist-packages (from yfinance) (1.21.6)\n",
            "Collecting beautifulsoup4>=4.11.1\n",
            "  Downloading beautifulsoup4-4.11.1-py3-none-any.whl (128 kB)\n",
            "\u001b[2K     \u001b[90m━━━━━━━━━━━━━━━━━━━━━━━━━━━━━━━━━━━━━━━\u001b[0m \u001b[32m128.2/128.2 KB\u001b[0m \u001b[31m8.6 MB/s\u001b[0m eta \u001b[36m0:00:00\u001b[0m\n",
            "\u001b[?25hRequirement already satisfied: pandas>=1.3.0 in /usr/local/lib/python3.8/dist-packages (from yfinance) (1.3.5)\n",
            "Requirement already satisfied: appdirs>=1.4.4 in /usr/local/lib/python3.8/dist-packages (from yfinance) (1.4.4)\n",
            "Requirement already satisfied: pytz>=2022.5 in /usr/local/lib/python3.8/dist-packages (from yfinance) (2022.7)\n",
            "Collecting frozendict>=2.3.4\n",
            "  Downloading frozendict-2.3.4-cp38-cp38-manylinux_2_17_x86_64.manylinux2014_x86_64.whl (110 kB)\n",
            "\u001b[2K     \u001b[90m━━━━━━━━━━━━━━━━━━━━━━━━━━━━━━━━━━━━━━━\u001b[0m \u001b[32m111.0/111.0 KB\u001b[0m \u001b[31m2.6 MB/s\u001b[0m eta \u001b[36m0:00:00\u001b[0m\n",
            "\u001b[?25hCollecting html5lib>=1.1\n",
            "  Downloading html5lib-1.1-py2.py3-none-any.whl (112 kB)\n",
            "\u001b[2K     \u001b[90m━━━━━━━━━━━━━━━━━━━━━━━━━━━━━━━━━━━━━━━\u001b[0m \u001b[32m112.2/112.2 KB\u001b[0m \u001b[31m6.9 MB/s\u001b[0m eta \u001b[36m0:00:00\u001b[0m\n",
            "\u001b[?25hRequirement already satisfied: lxml>=4.9.1 in /usr/local/lib/python3.8/dist-packages (from yfinance) (4.9.2)\n",
            "Collecting soupsieve>1.2\n",
            "  Downloading soupsieve-2.3.2.post1-py3-none-any.whl (37 kB)\n",
            "Requirement already satisfied: cffi>=1.12 in /usr/local/lib/python3.8/dist-packages (from cryptography>=3.3.2->yfinance) (1.15.1)\n",
            "Requirement already satisfied: webencodings in /usr/local/lib/python3.8/dist-packages (from html5lib>=1.1->yfinance) (0.5.1)\n",
            "Requirement already satisfied: six>=1.9 in /usr/local/lib/python3.8/dist-packages (from html5lib>=1.1->yfinance) (1.15.0)\n",
            "Requirement already satisfied: python-dateutil>=2.7.3 in /usr/local/lib/python3.8/dist-packages (from pandas>=1.3.0->yfinance) (2.8.2)\n",
            "Requirement already satisfied: idna<4,>=2.5 in /usr/local/lib/python3.8/dist-packages (from requests>=2.26->yfinance) (2.10)\n",
            "Requirement already satisfied: certifi>=2017.4.17 in /usr/local/lib/python3.8/dist-packages (from requests>=2.26->yfinance) (2022.12.7)\n",
            "Requirement already satisfied: charset-normalizer<4,>=2 in /usr/local/lib/python3.8/dist-packages (from requests>=2.26->yfinance) (2.1.1)\n",
            "Requirement already satisfied: urllib3<1.27,>=1.21.1 in /usr/local/lib/python3.8/dist-packages (from requests>=2.26->yfinance) (1.24.3)\n",
            "Requirement already satisfied: pycparser in /usr/local/lib/python3.8/dist-packages (from cffi>=1.12->cryptography>=3.3.2->yfinance) (2.21)\n",
            "Installing collected packages: soupsieve, requests, html5lib, frozendict, cryptography, beautifulsoup4, yfinance\n",
            "  Attempting uninstall: requests\n",
            "    Found existing installation: requests 2.25.1\n",
            "    Uninstalling requests-2.25.1:\n",
            "      Successfully uninstalled requests-2.25.1\n",
            "  Attempting uninstall: html5lib\n",
            "    Found existing installation: html5lib 1.0.1\n",
            "    Uninstalling html5lib-1.0.1:\n",
            "      Successfully uninstalled html5lib-1.0.1\n",
            "  Attempting uninstall: beautifulsoup4\n",
            "    Found existing installation: beautifulsoup4 4.6.3\n",
            "    Uninstalling beautifulsoup4-4.6.3:\n",
            "      Successfully uninstalled beautifulsoup4-4.6.3\n",
            "Successfully installed beautifulsoup4-4.11.1 cryptography-39.0.0 frozendict-2.3.4 html5lib-1.1 requests-2.28.2 soupsieve-2.3.2.post1 yfinance-0.2.9\n"
          ]
        }
      ],
      "source": [
        "!pip install yfinance\n"
      ]
    },
    {
      "cell_type": "code",
      "source": [
        "import yfinance as yf"
      ],
      "metadata": {
        "id": "sgk6iSxiRyC-"
      },
      "execution_count": null,
      "outputs": []
    },
    {
      "cell_type": "markdown",
      "source": [
        "DOWNLOADING SP500 PRICE DATA"
      ],
      "metadata": {
        "id": "8DhxwifDWR4t"
      }
    },
    {
      "cell_type": "code",
      "source": [
        "sp500 = yf.Ticker(\"^GSPC\")"
      ],
      "metadata": {
        "id": "1pbMebGpR3sZ"
      },
      "execution_count": null,
      "outputs": []
    },
    {
      "cell_type": "code",
      "source": [
        "sp500 = sp500.history(period = \"max\")"
      ],
      "metadata": {
        "id": "SGbIMcEhSf9n"
      },
      "execution_count": null,
      "outputs": []
    },
    {
      "cell_type": "code",
      "source": [
        "sp500"
      ],
      "metadata": {
        "colab": {
          "base_uri": "https://localhost:8080/",
          "height": 455
        },
        "id": "YESKZ8wKSr5X",
        "outputId": "e6bc9848-94f2-429e-f808-7594e2bedd58"
      },
      "execution_count": null,
      "outputs": [
        {
          "output_type": "execute_result",
          "data": {
            "text/plain": [
              "                                  Open         High          Low        Close  \\\n",
              "Date                                                                            \n",
              "1927-12-30 00:00:00-05:00    17.660000    17.660000    17.660000    17.660000   \n",
              "1928-01-03 00:00:00-05:00    17.760000    17.760000    17.760000    17.760000   \n",
              "1928-01-04 00:00:00-05:00    17.719999    17.719999    17.719999    17.719999   \n",
              "1928-01-05 00:00:00-05:00    17.549999    17.549999    17.549999    17.549999   \n",
              "1928-01-06 00:00:00-05:00    17.660000    17.660000    17.660000    17.660000   \n",
              "...                                ...          ...          ...          ...   \n",
              "2023-01-23 00:00:00-05:00  3978.139893  4039.310059  3971.639893  4019.810059   \n",
              "2023-01-24 00:00:00-05:00  4001.739990  4023.919922  3989.790039  4016.949951   \n",
              "2023-01-25 00:00:00-05:00  3982.709961  4019.550049  3949.060059  4016.219971   \n",
              "2023-01-26 00:00:00-05:00  4036.080078  4061.570068  4013.290039  4060.429932   \n",
              "2023-01-27 00:00:00-05:00  4053.719971  4094.209961  4048.699951  4070.560059   \n",
              "\n",
              "                               Volume  Dividends  Stock Splits  \n",
              "Date                                                            \n",
              "1927-12-30 00:00:00-05:00           0        0.0           0.0  \n",
              "1928-01-03 00:00:00-05:00           0        0.0           0.0  \n",
              "1928-01-04 00:00:00-05:00           0        0.0           0.0  \n",
              "1928-01-05 00:00:00-05:00           0        0.0           0.0  \n",
              "1928-01-06 00:00:00-05:00           0        0.0           0.0  \n",
              "...                               ...        ...           ...  \n",
              "2023-01-23 00:00:00-05:00  3945210000        0.0           0.0  \n",
              "2023-01-24 00:00:00-05:00  3320430000        0.0           0.0  \n",
              "2023-01-25 00:00:00-05:00  3724020000        0.0           0.0  \n",
              "2023-01-26 00:00:00-05:00  3809590000        0.0           0.0  \n",
              "2023-01-27 00:00:00-05:00  3907760000        0.0           0.0  \n",
              "\n",
              "[23883 rows x 7 columns]"
            ],
            "text/html": [
              "\n",
              "  <div id=\"df-337e8993-dac4-4083-b60b-1e3e3f2194ae\">\n",
              "    <div class=\"colab-df-container\">\n",
              "      <div>\n",
              "<style scoped>\n",
              "    .dataframe tbody tr th:only-of-type {\n",
              "        vertical-align: middle;\n",
              "    }\n",
              "\n",
              "    .dataframe tbody tr th {\n",
              "        vertical-align: top;\n",
              "    }\n",
              "\n",
              "    .dataframe thead th {\n",
              "        text-align: right;\n",
              "    }\n",
              "</style>\n",
              "<table border=\"1\" class=\"dataframe\">\n",
              "  <thead>\n",
              "    <tr style=\"text-align: right;\">\n",
              "      <th></th>\n",
              "      <th>Open</th>\n",
              "      <th>High</th>\n",
              "      <th>Low</th>\n",
              "      <th>Close</th>\n",
              "      <th>Volume</th>\n",
              "      <th>Dividends</th>\n",
              "      <th>Stock Splits</th>\n",
              "    </tr>\n",
              "    <tr>\n",
              "      <th>Date</th>\n",
              "      <th></th>\n",
              "      <th></th>\n",
              "      <th></th>\n",
              "      <th></th>\n",
              "      <th></th>\n",
              "      <th></th>\n",
              "      <th></th>\n",
              "    </tr>\n",
              "  </thead>\n",
              "  <tbody>\n",
              "    <tr>\n",
              "      <th>1927-12-30 00:00:00-05:00</th>\n",
              "      <td>17.660000</td>\n",
              "      <td>17.660000</td>\n",
              "      <td>17.660000</td>\n",
              "      <td>17.660000</td>\n",
              "      <td>0</td>\n",
              "      <td>0.0</td>\n",
              "      <td>0.0</td>\n",
              "    </tr>\n",
              "    <tr>\n",
              "      <th>1928-01-03 00:00:00-05:00</th>\n",
              "      <td>17.760000</td>\n",
              "      <td>17.760000</td>\n",
              "      <td>17.760000</td>\n",
              "      <td>17.760000</td>\n",
              "      <td>0</td>\n",
              "      <td>0.0</td>\n",
              "      <td>0.0</td>\n",
              "    </tr>\n",
              "    <tr>\n",
              "      <th>1928-01-04 00:00:00-05:00</th>\n",
              "      <td>17.719999</td>\n",
              "      <td>17.719999</td>\n",
              "      <td>17.719999</td>\n",
              "      <td>17.719999</td>\n",
              "      <td>0</td>\n",
              "      <td>0.0</td>\n",
              "      <td>0.0</td>\n",
              "    </tr>\n",
              "    <tr>\n",
              "      <th>1928-01-05 00:00:00-05:00</th>\n",
              "      <td>17.549999</td>\n",
              "      <td>17.549999</td>\n",
              "      <td>17.549999</td>\n",
              "      <td>17.549999</td>\n",
              "      <td>0</td>\n",
              "      <td>0.0</td>\n",
              "      <td>0.0</td>\n",
              "    </tr>\n",
              "    <tr>\n",
              "      <th>1928-01-06 00:00:00-05:00</th>\n",
              "      <td>17.660000</td>\n",
              "      <td>17.660000</td>\n",
              "      <td>17.660000</td>\n",
              "      <td>17.660000</td>\n",
              "      <td>0</td>\n",
              "      <td>0.0</td>\n",
              "      <td>0.0</td>\n",
              "    </tr>\n",
              "    <tr>\n",
              "      <th>...</th>\n",
              "      <td>...</td>\n",
              "      <td>...</td>\n",
              "      <td>...</td>\n",
              "      <td>...</td>\n",
              "      <td>...</td>\n",
              "      <td>...</td>\n",
              "      <td>...</td>\n",
              "    </tr>\n",
              "    <tr>\n",
              "      <th>2023-01-23 00:00:00-05:00</th>\n",
              "      <td>3978.139893</td>\n",
              "      <td>4039.310059</td>\n",
              "      <td>3971.639893</td>\n",
              "      <td>4019.810059</td>\n",
              "      <td>3945210000</td>\n",
              "      <td>0.0</td>\n",
              "      <td>0.0</td>\n",
              "    </tr>\n",
              "    <tr>\n",
              "      <th>2023-01-24 00:00:00-05:00</th>\n",
              "      <td>4001.739990</td>\n",
              "      <td>4023.919922</td>\n",
              "      <td>3989.790039</td>\n",
              "      <td>4016.949951</td>\n",
              "      <td>3320430000</td>\n",
              "      <td>0.0</td>\n",
              "      <td>0.0</td>\n",
              "    </tr>\n",
              "    <tr>\n",
              "      <th>2023-01-25 00:00:00-05:00</th>\n",
              "      <td>3982.709961</td>\n",
              "      <td>4019.550049</td>\n",
              "      <td>3949.060059</td>\n",
              "      <td>4016.219971</td>\n",
              "      <td>3724020000</td>\n",
              "      <td>0.0</td>\n",
              "      <td>0.0</td>\n",
              "    </tr>\n",
              "    <tr>\n",
              "      <th>2023-01-26 00:00:00-05:00</th>\n",
              "      <td>4036.080078</td>\n",
              "      <td>4061.570068</td>\n",
              "      <td>4013.290039</td>\n",
              "      <td>4060.429932</td>\n",
              "      <td>3809590000</td>\n",
              "      <td>0.0</td>\n",
              "      <td>0.0</td>\n",
              "    </tr>\n",
              "    <tr>\n",
              "      <th>2023-01-27 00:00:00-05:00</th>\n",
              "      <td>4053.719971</td>\n",
              "      <td>4094.209961</td>\n",
              "      <td>4048.699951</td>\n",
              "      <td>4070.560059</td>\n",
              "      <td>3907760000</td>\n",
              "      <td>0.0</td>\n",
              "      <td>0.0</td>\n",
              "    </tr>\n",
              "  </tbody>\n",
              "</table>\n",
              "<p>23883 rows × 7 columns</p>\n",
              "</div>\n",
              "      <button class=\"colab-df-convert\" onclick=\"convertToInteractive('df-337e8993-dac4-4083-b60b-1e3e3f2194ae')\"\n",
              "              title=\"Convert this dataframe to an interactive table.\"\n",
              "              style=\"display:none;\">\n",
              "        \n",
              "  <svg xmlns=\"http://www.w3.org/2000/svg\" height=\"24px\"viewBox=\"0 0 24 24\"\n",
              "       width=\"24px\">\n",
              "    <path d=\"M0 0h24v24H0V0z\" fill=\"none\"/>\n",
              "    <path d=\"M18.56 5.44l.94 2.06.94-2.06 2.06-.94-2.06-.94-.94-2.06-.94 2.06-2.06.94zm-11 1L8.5 8.5l.94-2.06 2.06-.94-2.06-.94L8.5 2.5l-.94 2.06-2.06.94zm10 10l.94 2.06.94-2.06 2.06-.94-2.06-.94-.94-2.06-.94 2.06-2.06.94z\"/><path d=\"M17.41 7.96l-1.37-1.37c-.4-.4-.92-.59-1.43-.59-.52 0-1.04.2-1.43.59L10.3 9.45l-7.72 7.72c-.78.78-.78 2.05 0 2.83L4 21.41c.39.39.9.59 1.41.59.51 0 1.02-.2 1.41-.59l7.78-7.78 2.81-2.81c.8-.78.8-2.07 0-2.86zM5.41 20L4 18.59l7.72-7.72 1.47 1.35L5.41 20z\"/>\n",
              "  </svg>\n",
              "      </button>\n",
              "      \n",
              "  <style>\n",
              "    .colab-df-container {\n",
              "      display:flex;\n",
              "      flex-wrap:wrap;\n",
              "      gap: 12px;\n",
              "    }\n",
              "\n",
              "    .colab-df-convert {\n",
              "      background-color: #E8F0FE;\n",
              "      border: none;\n",
              "      border-radius: 50%;\n",
              "      cursor: pointer;\n",
              "      display: none;\n",
              "      fill: #1967D2;\n",
              "      height: 32px;\n",
              "      padding: 0 0 0 0;\n",
              "      width: 32px;\n",
              "    }\n",
              "\n",
              "    .colab-df-convert:hover {\n",
              "      background-color: #E2EBFA;\n",
              "      box-shadow: 0px 1px 2px rgba(60, 64, 67, 0.3), 0px 1px 3px 1px rgba(60, 64, 67, 0.15);\n",
              "      fill: #174EA6;\n",
              "    }\n",
              "\n",
              "    [theme=dark] .colab-df-convert {\n",
              "      background-color: #3B4455;\n",
              "      fill: #D2E3FC;\n",
              "    }\n",
              "\n",
              "    [theme=dark] .colab-df-convert:hover {\n",
              "      background-color: #434B5C;\n",
              "      box-shadow: 0px 1px 3px 1px rgba(0, 0, 0, 0.15);\n",
              "      filter: drop-shadow(0px 1px 2px rgba(0, 0, 0, 0.3));\n",
              "      fill: #FFFFFF;\n",
              "    }\n",
              "  </style>\n",
              "\n",
              "      <script>\n",
              "        const buttonEl =\n",
              "          document.querySelector('#df-337e8993-dac4-4083-b60b-1e3e3f2194ae button.colab-df-convert');\n",
              "        buttonEl.style.display =\n",
              "          google.colab.kernel.accessAllowed ? 'block' : 'none';\n",
              "\n",
              "        async function convertToInteractive(key) {\n",
              "          const element = document.querySelector('#df-337e8993-dac4-4083-b60b-1e3e3f2194ae');\n",
              "          const dataTable =\n",
              "            await google.colab.kernel.invokeFunction('convertToInteractive',\n",
              "                                                     [key], {});\n",
              "          if (!dataTable) return;\n",
              "\n",
              "          const docLinkHtml = 'Like what you see? Visit the ' +\n",
              "            '<a target=\"_blank\" href=https://colab.research.google.com/notebooks/data_table.ipynb>data table notebook</a>'\n",
              "            + ' to learn more about interactive tables.';\n",
              "          element.innerHTML = '';\n",
              "          dataTable['output_type'] = 'display_data';\n",
              "          await google.colab.output.renderOutput(dataTable, element);\n",
              "          const docLink = document.createElement('div');\n",
              "          docLink.innerHTML = docLinkHtml;\n",
              "          element.appendChild(docLink);\n",
              "        }\n",
              "      </script>\n",
              "    </div>\n",
              "  </div>\n",
              "  "
            ]
          },
          "metadata": {},
          "execution_count": 5
        }
      ]
    },
    {
      "cell_type": "code",
      "source": [
        "sp500.index"
      ],
      "metadata": {
        "colab": {
          "base_uri": "https://localhost:8080/"
        },
        "id": "AYegU4h9VagD",
        "outputId": "876bca78-7529-4d90-fc2a-fc5320e630b8"
      },
      "execution_count": null,
      "outputs": [
        {
          "output_type": "execute_result",
          "data": {
            "text/plain": [
              "DatetimeIndex(['1927-12-30 00:00:00-05:00', '1928-01-03 00:00:00-05:00',\n",
              "               '1928-01-04 00:00:00-05:00', '1928-01-05 00:00:00-05:00',\n",
              "               '1928-01-06 00:00:00-05:00', '1928-01-09 00:00:00-05:00',\n",
              "               '1928-01-10 00:00:00-05:00', '1928-01-11 00:00:00-05:00',\n",
              "               '1928-01-12 00:00:00-05:00', '1928-01-13 00:00:00-05:00',\n",
              "               ...\n",
              "               '2023-01-13 00:00:00-05:00', '2023-01-17 00:00:00-05:00',\n",
              "               '2023-01-18 00:00:00-05:00', '2023-01-19 00:00:00-05:00',\n",
              "               '2023-01-20 00:00:00-05:00', '2023-01-23 00:00:00-05:00',\n",
              "               '2023-01-24 00:00:00-05:00', '2023-01-25 00:00:00-05:00',\n",
              "               '2023-01-26 00:00:00-05:00', '2023-01-27 00:00:00-05:00'],\n",
              "              dtype='datetime64[ns, America/New_York]', name='Date', length=23883, freq=None)"
            ]
          },
          "metadata": {},
          "execution_count": 6
        }
      ]
    },
    {
      "cell_type": "markdown",
      "source": [
        "CLEANING AND VISUALIZING OUR STOCK MARKET DATA"
      ],
      "metadata": {
        "id": "r7us36x5Wndo"
      }
    },
    {
      "cell_type": "code",
      "source": [
        "sp500.plot.line(y = \"Close\", use_index=True)"
      ],
      "metadata": {
        "colab": {
          "base_uri": "https://localhost:8080/"
        },
        "id": "UxumOaLSZpO5",
        "outputId": "d874062a-00cd-46b1-b52f-77895129573f"
      },
      "execution_count": null,
      "outputs": [
        {
          "output_type": "execute_result",
          "data": {
            "text/plain": [
              "<matplotlib.axes._subplots.AxesSubplot at 0x7fbe9f7ccd00>"
            ]
          },
          "metadata": {},
          "execution_count": 7
        },
        {
          "output_type": "display_data",
          "data": {
            "text/plain": [
              "<Figure size 432x288 with 1 Axes>"
            ],
            "image/png": "[encoded data removed]"
          },
          "metadata": {
            "needs_background": "light"
          }
        }
      ]
    },
    {
      "cell_type": "code",
      "source": [
        "del sp500[\"Dividends\"]\n",
        "del sp500[\"Stock Splits\"]"
      ],
      "metadata": {
        "id": "KBKJ23jkakpt"
      },
      "execution_count": null,
      "outputs": []
    },
    {
      "cell_type": "markdown",
      "source": [
        "SETTING UP OUR TARGET FOR MACHINE LEARNING"
      ],
      "metadata": {
        "id": "uMPX-i35cer6"
      }
    },
    {
      "cell_type": "code",
      "source": [
        "sp500[\"Tomorrow\"] = sp500[\"Close\"].shift(-1)"
      ],
      "metadata": {
        "id": "qot1gc0ScvJM"
      },
      "execution_count": null,
      "outputs": []
    },
    {
      "cell_type": "code",
      "source": [
        "sp500[\"Target\"] = (sp500[\"Tomorrow\"] > sp500[\"Close\"]).astype(int)"
      ],
      "metadata": {
        "id": "aP1lrcQpeQul"
      },
      "execution_count": null,
      "outputs": []
    },
    {
      "cell_type": "code",
      "source": [
        "sp500"
      ],
      "metadata": {
        "colab": {
          "base_uri": "https://localhost:8080/"
        },
        "id": "jtqxqy_YfRWP",
        "outputId": "d8887b51-5ef0-4dc1-8df8-9ae307b097ca"
      },
      "execution_count": null,
      "outputs": [
        {
          "output_type": "execute_result",
          "data": {
            "text/plain": [
              "                                  Open         High          Low        Close  \\\n",
              "Date                                                                            \n",
              "1927-12-30 00:00:00-05:00    17.660000    17.660000    17.660000    17.660000   \n",
              "1928-01-03 00:00:00-05:00    17.760000    17.760000    17.760000    17.760000   \n",
              "1928-01-04 00:00:00-05:00    17.719999    17.719999    17.719999    17.719999   \n",
              "1928-01-05 00:00:00-05:00    17.549999    17.549999    17.549999    17.549999   \n",
              "1928-01-06 00:00:00-05:00    17.660000    17.660000    17.660000    17.660000   \n",
              "...                                ...          ...          ...          ...   \n",
              "2023-01-23 00:00:00-05:00  3978.139893  4039.310059  3971.639893  4019.810059   \n",
              "2023-01-24 00:00:00-05:00  4001.739990  4023.919922  3989.790039  4016.949951   \n",
              "2023-01-25 00:00:00-05:00  3982.709961  4019.550049  3949.060059  4016.219971   \n",
              "2023-01-26 00:00:00-05:00  4036.080078  4061.570068  4013.290039  4060.429932   \n",
              "2023-01-27 00:00:00-05:00  4053.719971  4094.209961  4048.699951  4070.560059   \n",
              "\n",
              "                               Volume     Tomorrow  Target  \n",
              "Date                                                        \n",
              "1927-12-30 00:00:00-05:00           0    17.760000       1  \n",
              "1928-01-03 00:00:00-05:00           0    17.719999       0  \n",
              "1928-01-04 00:00:00-05:00           0    17.549999       0  \n",
              "1928-01-05 00:00:00-05:00           0    17.660000       1  \n",
              "1928-01-06 00:00:00-05:00           0    17.500000       0  \n",
              "...                               ...          ...     ...  \n",
              "2023-01-23 00:00:00-05:00  3945210000  4016.949951       0  \n",
              "2023-01-24 00:00:00-05:00  3320430000  4016.219971       0  \n",
              "2023-01-25 00:00:00-05:00  3724020000  4060.429932       1  \n",
              "2023-01-26 00:00:00-05:00  3809590000  4070.560059       1  \n",
              "2023-01-27 00:00:00-05:00  3907760000          NaN       0  \n",
              "\n",
              "[23883 rows x 7 columns]"
            ],
            "text/html": [
              "\n",
              "  <div id=\"df-6a33461e-5d1b-4314-bb20-bc9be2d76747\">\n",
              "    <div class=\"colab-df-container\">\n",
              "      <div>\n",
              "<style scoped>\n",
              "    .dataframe tbody tr th:only-of-type {\n",
              "        vertical-align: middle;\n",
              "    }\n",
              "\n",
              "    .dataframe tbody tr th {\n",
              "        vertical-align: top;\n",
              "    }\n",
              "\n",
              "    .dataframe thead th {\n",
              "        text-align: right;\n",
              "    }\n",
              "</style>\n",
              "<table border=\"1\" class=\"dataframe\">\n",
              "  <thead>\n",
              "    <tr style=\"text-align: right;\">\n",
              "      <th></th>\n",
              "      <th>Open</th>\n",
              "      <th>High</th>\n",
              "      <th>Low</th>\n",
              "      <th>Close</th>\n",
              "      <th>Volume</th>\n",
              "      <th>Tomorrow</th>\n",
              "      <th>Target</th>\n",
              "    </tr>\n",
              "    <tr>\n",
              "      <th>Date</th>\n",
              "      <th></th>\n",
              "      <th></th>\n",
              "      <th></th>\n",
              "      <th></th>\n",
              "      <th></th>\n",
              "      <th></th>\n",
              "      <th></th>\n",
              "    </tr>\n",
              "  </thead>\n",
              "  <tbody>\n",
              "    <tr>\n",
              "      <th>1927-12-30 00:00:00-05:00</th>\n",
              "      <td>17.660000</td>\n",
              "      <td>17.660000</td>\n",
              "      <td>17.660000</td>\n",
              "      <td>17.660000</td>\n",
              "      <td>0</td>\n",
              "      <td>17.760000</td>\n",
              "      <td>1</td>\n",
              "    </tr>\n",
              "    <tr>\n",
              "      <th>1928-01-03 00:00:00-05:00</th>\n",
              "      <td>17.760000</td>\n",
              "      <td>17.760000</td>\n",
              "      <td>17.760000</td>\n",
              "      <td>17.760000</td>\n",
              "      <td>0</td>\n",
              "      <td>17.719999</td>\n",
              "      <td>0</td>\n",
              "    </tr>\n",
              "    <tr>\n",
              "      <th>1928-01-04 00:00:00-05:00</th>\n",
              "      <td>17.719999</td>\n",
              "      <td>17.719999</td>\n",
              "      <td>17.719999</td>\n",
              "      <td>17.719999</td>\n",
              "      <td>0</td>\n",
              "      <td>17.549999</td>\n",
              "      <td>0</td>\n",
              "    </tr>\n",
              "    <tr>\n",
              "      <th>1928-01-05 00:00:00-05:00</th>\n",
              "      <td>17.549999</td>\n",
              "      <td>17.549999</td>\n",
              "      <td>17.549999</td>\n",
              "      <td>17.549999</td>\n",
              "      <td>0</td>\n",
              "      <td>17.660000</td>\n",
              "      <td>1</td>\n",
              "    </tr>\n",
              "    <tr>\n",
              "      <th>1928-01-06 00:00:00-05:00</th>\n",
              "      <td>17.660000</td>\n",
              "      <td>17.660000</td>\n",
              "      <td>17.660000</td>\n",
              "      <td>17.660000</td>\n",
              "      <td>0</td>\n",
              "      <td>17.500000</td>\n",
              "      <td>0</td>\n",
              "    </tr>\n",
              "    <tr>\n",
              "      <th>...</th>\n",
              "      <td>...</td>\n",
              "      <td>...</td>\n",
              "      <td>...</td>\n",
              "      <td>...</td>\n",
              "      <td>...</td>\n",
              "      <td>...</td>\n",
              "      <td>...</td>\n",
              "    </tr>\n",
              "    <tr>\n",
              "      <th>2023-01-23 00:00:00-05:00</th>\n",
              "      <td>3978.139893</td>\n",
              "      <td>4039.310059</td>\n",
              "      <td>3971.639893</td>\n",
              "      <td>4019.810059</td>\n",
              "      <td>3945210000</td>\n",
              "      <td>4016.949951</td>\n",
              "      <td>0</td>\n",
              "    </tr>\n",
              "    <tr>\n",
              "      <th>2023-01-24 00:00:00-05:00</th>\n",
              "      <td>4001.739990</td>\n",
              "      <td>4023.919922</td>\n",
              "      <td>3989.790039</td>\n",
              "      <td>4016.949951</td>\n",
              "      <td>3320430000</td>\n",
              "      <td>4016.219971</td>\n",
              "      <td>0</td>\n",
              "    </tr>\n",
              "    <tr>\n",
              "      <th>2023-01-25 00:00:00-05:00</th>\n",
              "      <td>3982.709961</td>\n",
              "      <td>4019.550049</td>\n",
              "      <td>3949.060059</td>\n",
              "      <td>4016.219971</td>\n",
              "      <td>3724020000</td>\n",
              "      <td>4060.429932</td>\n",
              "      <td>1</td>\n",
              "    </tr>\n",
              "    <tr>\n",
              "      <th>2023-01-26 00:00:00-05:00</th>\n",
              "      <td>4036.080078</td>\n",
              "      <td>4061.570068</td>\n",
              "      <td>4013.290039</td>\n",
              "      <td>4060.429932</td>\n",
              "      <td>3809590000</td>\n",
              "      <td>4070.560059</td>\n",
              "      <td>1</td>\n",
              "    </tr>\n",
              "    <tr>\n",
              "      <th>2023-01-27 00:00:00-05:00</th>\n",
              "      <td>4053.719971</td>\n",
              "      <td>4094.209961</td>\n",
              "      <td>4048.699951</td>\n",
              "      <td>4070.560059</td>\n",
              "      <td>3907760000</td>\n",
              "      <td>NaN</td>\n",
              "      <td>0</td>\n",
              "    </tr>\n",
              "  </tbody>\n",
              "</table>\n",
              "<p>23883 rows × 7 columns</p>\n",
              "</div>\n",
              "      <button class=\"colab-df-convert\" onclick=\"convertToInteractive('df-6a33461e-5d1b-4314-bb20-bc9be2d76747')\"\n",
              "              title=\"Convert this dataframe to an interactive table.\"\n",
              "              style=\"display:none;\">\n",
              "        \n",
              "  <svg xmlns=\"http://www.w3.org/2000/svg\" height=\"24px\"viewBox=\"0 0 24 24\"\n",
              "       width=\"24px\">\n",
              "    <path d=\"M0 0h24v24H0V0z\" fill=\"none\"/>\n",
              "    <path d=\"M18.56 5.44l.94 2.06.94-2.06 2.06-.94-2.06-.94-.94-2.06-.94 2.06-2.06.94zm-11 1L8.5 8.5l.94-2.06 2.06-.94-2.06-.94L8.5 2.5l-.94 2.06-2.06.94zm10 10l.94 2.06.94-2.06 2.06-.94-2.06-.94-.94-2.06-.94 2.06-2.06.94z\"/><path d=\"M17.41 7.96l-1.37-1.37c-.4-.4-.92-.59-1.43-.59-.52 0-1.04.2-1.43.59L10.3 9.45l-7.72 7.72c-.78.78-.78 2.05 0 2.83L4 21.41c.39.39.9.59 1.41.59.51 0 1.02-.2 1.41-.59l7.78-7.78 2.81-2.81c.8-.78.8-2.07 0-2.86zM5.41 20L4 18.59l7.72-7.72 1.47 1.35L5.41 20z\"/>\n",
              "  </svg>\n",
              "      </button>\n",
              "      \n",
              "  <style>\n",
              "    .colab-df-container {\n",
              "      display:flex;\n",
              "      flex-wrap:wrap;\n",
              "      gap: 12px;\n",
              "    }\n",
              "\n",
              "    .colab-df-convert {\n",
              "      background-color: #E8F0FE;\n",
              "      border: none;\n",
              "      border-radius: 50%;\n",
              "      cursor: pointer;\n",
              "      display: none;\n",
              "      fill: #1967D2;\n",
              "      height: 32px;\n",
              "      padding: 0 0 0 0;\n",
              "      width: 32px;\n",
              "    }\n",
              "\n",
              "    .colab-df-convert:hover {\n",
              "      background-color: #E2EBFA;\n",
              "      box-shadow: 0px 1px 2px rgba(60, 64, 67, 0.3), 0px 1px 3px 1px rgba(60, 64, 67, 0.15);\n",
              "      fill: #174EA6;\n",
              "    }\n",
              "\n",
              "    [theme=dark] .colab-df-convert {\n",
              "      background-color: #3B4455;\n",
              "      fill: #D2E3FC;\n",
              "    }\n",
              "\n",
              "    [theme=dark] .colab-df-convert:hover {\n",
              "      background-color: #434B5C;\n",
              "      box-shadow: 0px 1px 3px 1px rgba(0, 0, 0, 0.15);\n",
              "      filter: drop-shadow(0px 1px 2px rgba(0, 0, 0, 0.3));\n",
              "      fill: #FFFFFF;\n",
              "    }\n",
              "  </style>\n",
              "\n",
              "      <script>\n",
              "        const buttonEl =\n",
              "          document.querySelector('#df-6a33461e-5d1b-4314-bb20-bc9be2d76747 button.colab-df-convert');\n",
              "        buttonEl.style.display =\n",
              "          google.colab.kernel.accessAllowed ? 'block' : 'none';\n",
              "\n",
              "        async function convertToInteractive(key) {\n",
              "          const element = document.querySelector('#df-6a33461e-5d1b-4314-bb20-bc9be2d76747');\n",
              "          const dataTable =\n",
              "            await google.colab.kernel.invokeFunction('convertToInteractive',\n",
              "                                                     [key], {});\n",
              "          if (!dataTable) return;\n",
              "\n",
              "          const docLinkHtml = 'Like what you see? Visit the ' +\n",
              "            '<a target=\"_blank\" href=https://colab.research.google.com/notebooks/data_table.ipynb>data table notebook</a>'\n",
              "            + ' to learn more about interactive tables.';\n",
              "          element.innerHTML = '';\n",
              "          dataTable['output_type'] = 'display_data';\n",
              "          await google.colab.output.renderOutput(dataTable, element);\n",
              "          const docLink = document.createElement('div');\n",
              "          docLink.innerHTML = docLinkHtml;\n",
              "          element.appendChild(docLink);\n",
              "        }\n",
              "      </script>\n",
              "    </div>\n",
              "  </div>\n",
              "  "
            ]
          },
          "metadata": {},
          "execution_count": 11
        }
      ]
    },
    {
      "cell_type": "code",
      "source": [
        "sp500  = sp500.loc[\"1990-01-01\":].copy()"
      ],
      "metadata": {
        "id": "sigMroYhg9FO"
      },
      "execution_count": null,
      "outputs": []
    },
    {
      "cell_type": "code",
      "source": [
        "sp500"
      ],
      "metadata": {
        "colab": {
          "base_uri": "https://localhost:8080/"
        },
        "id": "755hzzZdhawM",
        "outputId": "023e0039-6ac7-426a-8410-b9cd7dee0141"
      },
      "execution_count": null,
      "outputs": [
        {
          "output_type": "execute_result",
          "data": {
            "text/plain": [
              "                                  Open         High          Low        Close  \\\n",
              "Date                                                                            \n",
              "1990-01-02 00:00:00-05:00   353.399994   359.690002   351.980011   359.690002   \n",
              "1990-01-03 00:00:00-05:00   359.690002   360.589996   357.890015   358.760010   \n",
              "1990-01-04 00:00:00-05:00   358.760010   358.760010   352.890015   355.670013   \n",
              "1990-01-05 00:00:00-05:00   355.670013   355.670013   351.350006   352.200012   \n",
              "1990-01-08 00:00:00-05:00   352.200012   354.239990   350.540009   353.790009   \n",
              "...                                ...          ...          ...          ...   \n",
              "2023-01-23 00:00:00-05:00  3978.139893  4039.310059  3971.639893  4019.810059   \n",
              "2023-01-24 00:00:00-05:00  4001.739990  4023.919922  3989.790039  4016.949951   \n",
              "2023-01-25 00:00:00-05:00  3982.709961  4019.550049  3949.060059  4016.219971   \n",
              "2023-01-26 00:00:00-05:00  4036.080078  4061.570068  4013.290039  4060.429932   \n",
              "2023-01-27 00:00:00-05:00  4053.719971  4094.209961  4048.699951  4070.560059   \n",
              "\n",
              "                               Volume     Tomorrow  Target  \n",
              "Date                                                        \n",
              "1990-01-02 00:00:00-05:00   162070000   358.760010       0  \n",
              "1990-01-03 00:00:00-05:00   192330000   355.670013       0  \n",
              "1990-01-04 00:00:00-05:00   177000000   352.200012       0  \n",
              "1990-01-05 00:00:00-05:00   158530000   353.790009       1  \n",
              "1990-01-08 00:00:00-05:00   140110000   349.619995       0  \n",
              "...                               ...          ...     ...  \n",
              "2023-01-23 00:00:00-05:00  3945210000  4016.949951       0  \n",
              "2023-01-24 00:00:00-05:00  3320430000  4016.219971       0  \n",
              "2023-01-25 00:00:00-05:00  3724020000  4060.429932       1  \n",
              "2023-01-26 00:00:00-05:00  3809590000  4070.560059       1  \n",
              "2023-01-27 00:00:00-05:00  3907760000          NaN       0  \n",
              "\n",
              "[8333 rows x 7 columns]"
            ],
            "text/html": [
              "\n",
              "  <div id=\"df-07f12a02-9dc0-4fae-af61-0f0f44a21740\">\n",
              "    <div class=\"colab-df-container\">\n",
              "      <div>\n",
              "<style scoped>\n",
              "    .dataframe tbody tr th:only-of-type {\n",
              "        vertical-align: middle;\n",
              "    }\n",
              "\n",
              "    .dataframe tbody tr th {\n",
              "        vertical-align: top;\n",
              "    }\n",
              "\n",
              "    .dataframe thead th {\n",
              "        text-align: right;\n",
              "    }\n",
              "</style>\n",
              "<table border=\"1\" class=\"dataframe\">\n",
              "  <thead>\n",
              "    <tr style=\"text-align: right;\">\n",
              "      <th></th>\n",
              "      <th>Open</th>\n",
              "      <th>High</th>\n",
              "      <th>Low</th>\n",
              "      <th>Close</th>\n",
              "      <th>Volume</th>\n",
              "      <th>Tomorrow</th>\n",
              "      <th>Target</th>\n",
              "    </tr>\n",
              "    <tr>\n",
              "      <th>Date</th>\n",
              "      <th></th>\n",
              "      <th></th>\n",
              "      <th></th>\n",
              "      <th></th>\n",
              "      <th></th>\n",
              "      <th></th>\n",
              "      <th></th>\n",
              "    </tr>\n",
              "  </thead>\n",
              "  <tbody>\n",
              "    <tr>\n",
              "      <th>1990-01-02 00:00:00-05:00</th>\n",
              "      <td>353.399994</td>\n",
              "      <td>359.690002</td>\n",
              "      <td>351.980011</td>\n",
              "      <td>359.690002</td>\n",
              "      <td>162070000</td>\n",
              "      <td>358.760010</td>\n",
              "      <td>0</td>\n",
              "    </tr>\n",
              "    <tr>\n",
              "      <th>1990-01-03 00:00:00-05:00</th>\n",
              "      <td>359.690002</td>\n",
              "      <td>360.589996</td>\n",
              "      <td>357.890015</td>\n",
              "      <td>358.760010</td>\n",
              "      <td>192330000</td>\n",
              "      <td>355.670013</td>\n",
              "      <td>0</td>\n",
              "    </tr>\n",
              "    <tr>\n",
              "      <th>1990-01-04 00:00:00-05:00</th>\n",
              "      <td>358.760010</td>\n",
              "      <td>358.760010</td>\n",
              "      <td>352.890015</td>\n",
              "      <td>355.670013</td>\n",
              "      <td>177000000</td>\n",
              "      <td>352.200012</td>\n",
              "      <td>0</td>\n",
              "    </tr>\n",
              "    <tr>\n",
              "      <th>1990-01-05 00:00:00-05:00</th>\n",
              "      <td>355.670013</td>\n",
              "      <td>355.670013</td>\n",
              "      <td>351.350006</td>\n",
              "      <td>352.200012</td>\n",
              "      <td>158530000</td>\n",
              "      <td>353.790009</td>\n",
              "      <td>1</td>\n",
              "    </tr>\n",
              "    <tr>\n",
              "      <th>1990-01-08 00:00:00-05:00</th>\n",
              "      <td>352.200012</td>\n",
              "      <td>354.239990</td>\n",
              "      <td>350.540009</td>\n",
              "      <td>353.790009</td>\n",
              "      <td>140110000</td>\n",
              "      <td>349.619995</td>\n",
              "      <td>0</td>\n",
              "    </tr>\n",
              "    <tr>\n",
              "      <th>...</th>\n",
              "      <td>...</td>\n",
              "      <td>...</td>\n",
              "      <td>...</td>\n",
              "      <td>...</td>\n",
              "      <td>...</td>\n",
              "      <td>...</td>\n",
              "      <td>...</td>\n",
              "    </tr>\n",
              "    <tr>\n",
              "      <th>2023-01-23 00:00:00-05:00</th>\n",
              "      <td>3978.139893</td>\n",
              "      <td>4039.310059</td>\n",
              "      <td>3971.639893</td>\n",
              "      <td>4019.810059</td>\n",
              "      <td>3945210000</td>\n",
              "      <td>4016.949951</td>\n",
              "      <td>0</td>\n",
              "    </tr>\n",
              "    <tr>\n",
              "      <th>2023-01-24 00:00:00-05:00</th>\n",
              "      <td>4001.739990</td>\n",
              "      <td>4023.919922</td>\n",
              "      <td>3989.790039</td>\n",
              "      <td>4016.949951</td>\n",
              "      <td>3320430000</td>\n",
              "      <td>4016.219971</td>\n",
              "      <td>0</td>\n",
              "    </tr>\n",
              "    <tr>\n",
              "      <th>2023-01-25 00:00:00-05:00</th>\n",
              "      <td>3982.709961</td>\n",
              "      <td>4019.550049</td>\n",
              "      <td>3949.060059</td>\n",
              "      <td>4016.219971</td>\n",
              "      <td>3724020000</td>\n",
              "      <td>4060.429932</td>\n",
              "      <td>1</td>\n",
              "    </tr>\n",
              "    <tr>\n",
              "      <th>2023-01-26 00:00:00-05:00</th>\n",
              "      <td>4036.080078</td>\n",
              "      <td>4061.570068</td>\n",
              "      <td>4013.290039</td>\n",
              "      <td>4060.429932</td>\n",
              "      <td>3809590000</td>\n",
              "      <td>4070.560059</td>\n",
              "      <td>1</td>\n",
              "    </tr>\n",
              "    <tr>\n",
              "      <th>2023-01-27 00:00:00-05:00</th>\n",
              "      <td>4053.719971</td>\n",
              "      <td>4094.209961</td>\n",
              "      <td>4048.699951</td>\n",
              "      <td>4070.560059</td>\n",
              "      <td>3907760000</td>\n",
              "      <td>NaN</td>\n",
              "      <td>0</td>\n",
              "    </tr>\n",
              "  </tbody>\n",
              "</table>\n",
              "<p>8333 rows × 7 columns</p>\n",
              "</div>\n",
              "      <button class=\"colab-df-convert\" onclick=\"convertToInteractive('df-07f12a02-9dc0-4fae-af61-0f0f44a21740')\"\n",
              "              title=\"Convert this dataframe to an interactive table.\"\n",
              "              style=\"display:none;\">\n",
              "        \n",
              "  <svg xmlns=\"http://www.w3.org/2000/svg\" height=\"24px\"viewBox=\"0 0 24 24\"\n",
              "       width=\"24px\">\n",
              "    <path d=\"M0 0h24v24H0V0z\" fill=\"none\"/>\n",
              "    <path d=\"M18.56 5.44l.94 2.06.94-2.06 2.06-.94-2.06-.94-.94-2.06-.94 2.06-2.06.94zm-11 1L8.5 8.5l.94-2.06 2.06-.94-2.06-.94L8.5 2.5l-.94 2.06-2.06.94zm10 10l.94 2.06.94-2.06 2.06-.94-2.06-.94-.94-2.06-.94 2.06-2.06.94z\"/><path d=\"M17.41 7.96l-1.37-1.37c-.4-.4-.92-.59-1.43-.59-.52 0-1.04.2-1.43.59L10.3 9.45l-7.72 7.72c-.78.78-.78 2.05 0 2.83L4 21.41c.39.39.9.59 1.41.59.51 0 1.02-.2 1.41-.59l7.78-7.78 2.81-2.81c.8-.78.8-2.07 0-2.86zM5.41 20L4 18.59l7.72-7.72 1.47 1.35L5.41 20z\"/>\n",
              "  </svg>\n",
              "      </button>\n",
              "      \n",
              "  <style>\n",
              "    .colab-df-container {\n",
              "      display:flex;\n",
              "      flex-wrap:wrap;\n",
              "      gap: 12px;\n",
              "    }\n",
              "\n",
              "    .colab-df-convert {\n",
              "      background-color: #E8F0FE;\n",
              "      border: none;\n",
              "      border-radius: 50%;\n",
              "      cursor: pointer;\n",
              "      display: none;\n",
              "      fill: #1967D2;\n",
              "      height: 32px;\n",
              "      padding: 0 0 0 0;\n",
              "      width: 32px;\n",
              "    }\n",
              "\n",
              "    .colab-df-convert:hover {\n",
              "      background-color: #E2EBFA;\n",
              "      box-shadow: 0px 1px 2px rgba(60, 64, 67, 0.3), 0px 1px 3px 1px rgba(60, 64, 67, 0.15);\n",
              "      fill: #174EA6;\n",
              "    }\n",
              "\n",
              "    [theme=dark] .colab-df-convert {\n",
              "      background-color: #3B4455;\n",
              "      fill: #D2E3FC;\n",
              "    }\n",
              "\n",
              "    [theme=dark] .colab-df-convert:hover {\n",
              "      background-color: #434B5C;\n",
              "      box-shadow: 0px 1px 3px 1px rgba(0, 0, 0, 0.15);\n",
              "      filter: drop-shadow(0px 1px 2px rgba(0, 0, 0, 0.3));\n",
              "      fill: #FFFFFF;\n",
              "    }\n",
              "  </style>\n",
              "\n",
              "      <script>\n",
              "        const buttonEl =\n",
              "          document.querySelector('#df-07f12a02-9dc0-4fae-af61-0f0f44a21740 button.colab-df-convert');\n",
              "        buttonEl.style.display =\n",
              "          google.colab.kernel.accessAllowed ? 'block' : 'none';\n",
              "\n",
              "        async function convertToInteractive(key) {\n",
              "          const element = document.querySelector('#df-07f12a02-9dc0-4fae-af61-0f0f44a21740');\n",
              "          const dataTable =\n",
              "            await google.colab.kernel.invokeFunction('convertToInteractive',\n",
              "                                                     [key], {});\n",
              "          if (!dataTable) return;\n",
              "\n",
              "          const docLinkHtml = 'Like what you see? Visit the ' +\n",
              "            '<a target=\"_blank\" href=https://colab.research.google.com/notebooks/data_table.ipynb>data table notebook</a>'\n",
              "            + ' to learn more about interactive tables.';\n",
              "          element.innerHTML = '';\n",
              "          dataTable['output_type'] = 'display_data';\n",
              "          await google.colab.output.renderOutput(dataTable, element);\n",
              "          const docLink = document.createElement('div');\n",
              "          docLink.innerHTML = docLinkHtml;\n",
              "          element.appendChild(docLink);\n",
              "        }\n",
              "      </script>\n",
              "    </div>\n",
              "  </div>\n",
              "  "
            ]
          },
          "metadata": {},
          "execution_count": 13
        }
      ]
    },
    {
      "cell_type": "markdown",
      "source": [
        "TRAINING AN INITIAL MACHINE LEARNING DATA"
      ],
      "metadata": {
        "id": "n6txxilfhmr2"
      }
    },
    {
      "cell_type": "code",
      "source": [
        "from sklearn.ensemble import RandomForestClassifier\n",
        "\n",
        "model = RandomForestClassifier(n_estimators=100, min_samples_split=100, random_state=1)\n",
        "\n",
        "train = sp500.iloc[:-100]\n",
        "\n",
        "test = sp500.iloc[:-100]\n",
        "\n",
        "predictors = [\"Close\", \"Volume\", \"Open\", \"High\", \"Low\"]\n",
        "\n",
        "model.fit(train[predictors], train[\"Target\"])"
      ],
      "metadata": {
        "colab": {
          "base_uri": "https://localhost:8080/"
        },
        "id": "u1oddxt4htOm",
        "outputId": "e9e1db71-93f7-4e5c-921d-09d3b1280880"
      },
      "execution_count": null,
      "outputs": [
        {
          "output_type": "execute_result",
          "data": {
            "text/plain": [
              "RandomForestClassifier(min_samples_split=100, random_state=1)"
            ]
          },
          "metadata": {},
          "execution_count": 14
        }
      ]
    },
    {
      "cell_type": "code",
      "source": [
        "from sklearn.metrics import precision_score\n",
        "\n",
        "preds = model.predict(test[predictors])"
      ],
      "metadata": {
        "id": "3pe-p_n0kc2o"
      },
      "execution_count": null,
      "outputs": []
    },
    {
      "cell_type": "code",
      "source": [
        "import pandas as pd\n",
        "\n",
        "preds = pd.Series(preds, index=test.index)"
      ],
      "metadata": {
        "id": "mM37MtaMk32v"
      },
      "execution_count": null,
      "outputs": []
    },
    {
      "cell_type": "code",
      "source": [
        "precision_score(test[\"Target\"], preds)"
      ],
      "metadata": {
        "colab": {
          "base_uri": "https://localhost:8080/"
        },
        "id": "JtVSM8adlZTi",
        "outputId": "1349529b-b6d2-418b-f55a-548982634b5b"
      },
      "execution_count": null,
      "outputs": [
        {
          "output_type": "execute_result",
          "data": {
            "text/plain": [
              "0.71478938578586"
            ]
          },
          "metadata": {},
          "execution_count": 17
        }
      ]
    },
    {
      "cell_type": "code",
      "source": [
        "combined = pd.concat([test[\"Target\"], preds], axis=1)"
      ],
      "metadata": {
        "id": "Qs4aT7MRmCiu"
      },
      "execution_count": null,
      "outputs": []
    },
    {
      "cell_type": "code",
      "source": [
        "combined.plot()"
      ],
      "metadata": {
        "colab": {
          "base_uri": "https://localhost:8080/"
        },
        "id": "ujhSAAoomW_9",
        "outputId": "8d2be22e-d1bc-4540-947f-c151a3669d28"
      },
      "execution_count": null,
      "outputs": [
        {
          "output_type": "execute_result",
          "data": {
            "text/plain": [
              "<matplotlib.axes._subplots.AxesSubplot at 0x7fbe9f5602b0>"
            ]
          },
          "metadata": {},
          "execution_count": 19
        },
        {
          "output_type": "display_data",
          "data": {
            "text/plain": [
              "<Figure size 432x288 with 1 Axes>"
            ],
            "image/png": "[encoded data removed]"
          },
          "metadata": {
            "needs_background": "light"
          }
        }
      ]
    },
    {
      "cell_type": "markdown",
      "source": [
        "BUILDING A BACKTESTING SYSTEM"
      ],
      "metadata": {
        "id": "2hqiUZabm4IT"
      }
    },
    {
      "cell_type": "code",
      "source": [
        "def predict(train, test, predictors, model):\n",
        "  model.fit(train[predictors], train[\"Target\"])\n",
        "  preds = model.predict(test[predictors])\n",
        "  preds = pd.Series(preds, index=test.index, name=\"Predictions\")\n",
        "  combined = pd.concat([test[\"Target\"], preds], axis=1)\n",
        "  return combined"
      ],
      "metadata": {
        "id": "Arn3n_-Dm3jN"
      },
      "execution_count": null,
      "outputs": []
    },
    {
      "cell_type": "code",
      "source": [
        "def backtest(data, model, predictors, start = 2500, step=250):\n",
        "  all_predictions = []\n",
        "\n",
        "  for i in range(start, data.shape[0], step):\n",
        "    train = data.iloc[0:i].copy()\n",
        "    test = data.iloc[i:(i+step)].copy()\n",
        "    predictions = predict(train, test, predictors, model)\n",
        "    all_predictions.append(predictions)\n",
        "  return pd.concat(all_predictions)"
      ],
      "metadata": {
        "id": "pBVDMWtbpKn-"
      },
      "execution_count": null,
      "outputs": []
    },
    {
      "cell_type": "code",
      "source": [
        "predictions = backtest(sp500, model, predictors)"
      ],
      "metadata": {
        "id": "lzmOd8C6rmea"
      },
      "execution_count": null,
      "outputs": []
    },
    {
      "cell_type": "code",
      "source": [
        "predictions[\"Predictions\"].value_counts()"
      ],
      "metadata": {
        "colab": {
          "base_uri": "https://localhost:8080/"
        },
        "id": "bXDDuhZnsxXG",
        "outputId": "37e9fddf-2890-44a7-94f7-c520e344e7a1"
      },
      "execution_count": null,
      "outputs": [
        {
          "output_type": "execute_result",
          "data": {
            "text/plain": [
              "0    3395\n",
              "1    2438\n",
              "Name: Predictions, dtype: int64"
            ]
          },
          "metadata": {},
          "execution_count": 23
        }
      ]
    },
    {
      "cell_type": "code",
      "source": [
        "precision_score(predictions[\"Target\"], predictions[\"Predictions\"])"
      ],
      "metadata": {
        "colab": {
          "base_uri": "https://localhost:8080/"
        },
        "id": "4l3t3MJPts-F",
        "outputId": "b38c1db8-9e93-4533-e6f5-68aae55fc6ec"
      },
      "execution_count": null,
      "outputs": [
        {
          "output_type": "execute_result",
          "data": {
            "text/plain": [
              "0.527481542247744"
            ]
          },
          "metadata": {},
          "execution_count": 24
        }
      ]
    },
    {
      "cell_type": "code",
      "source": [
        "predictions[\"Target\"].value_counts()/predictions.shape[0]"
      ],
      "metadata": {
        "colab": {
          "base_uri": "https://localhost:8080/"
        },
        "id": "fGtCj1uSuL6I",
        "outputId": "908f3c0f-00c4-4452-a620-2c764d70c138"
      },
      "execution_count": null,
      "outputs": [
        {
          "output_type": "execute_result",
          "data": {
            "text/plain": [
              "1    0.534031\n",
              "0    0.465969\n",
              "Name: Target, dtype: float64"
            ]
          },
          "metadata": {},
          "execution_count": 25
        }
      ]
    },
    {
      "cell_type": "markdown",
      "source": [
        "ADDING ADDITIONAL PREDICTORS TO OUR MODEL"
      ],
      "metadata": {
        "id": "qD-7q5SsuznQ"
      }
    },
    {
      "cell_type": "code",
      "source": [
        "horizons = [2,5,60,250,1000]\n",
        "new_predictors = []\n",
        "\n",
        "for horizon in horizons:\n",
        "  rolling_averages = sp500.rolling(horizon).mean()\n",
        "\n",
        "  ratio_column = f\"Close_Ratio_{horizon}\"\n",
        "  sp500[ratio_column] = sp500[\"Close\"]/rolling_averages[\"Close\"]\n",
        "\n",
        "  trend_column = f\"Trend_{horizon}\"\n",
        "  sp500[trend_column] = sp500.shift(1).rolling(horizon).sum()[\"Target\"]\n",
        "\n",
        "  new_predictors += [ratio_column, trend_column]\n"
      ],
      "metadata": {
        "id": "2AC01GxZu5g2"
      },
      "execution_count": null,
      "outputs": []
    },
    {
      "cell_type": "code",
      "source": [
        "sp500 = sp500.dropna()"
      ],
      "metadata": {
        "id": "VQWnHeMX2cao"
      },
      "execution_count": null,
      "outputs": []
    },
    {
      "cell_type": "code",
      "source": [
        "sp500"
      ],
      "metadata": {
        "colab": {
          "base_uri": "https://localhost:8080/"
        },
        "id": "INs4Ly2QALF-",
        "outputId": "6dd38853-f1e5-4248-e26a-a9acae909f10"
      },
      "execution_count": null,
      "outputs": [
        {
          "output_type": "execute_result",
          "data": {
            "text/plain": [
              "                                  Open         High          Low        Close  \\\n",
              "Date                                                                            \n",
              "1993-12-14 00:00:00-05:00   465.730011   466.119995   462.459991   463.059998   \n",
              "1993-12-15 00:00:00-05:00   463.059998   463.690002   461.839996   461.839996   \n",
              "1993-12-16 00:00:00-05:00   461.859985   463.980011   461.859985   463.339996   \n",
              "1993-12-17 00:00:00-05:00   463.339996   466.380005   463.339996   466.380005   \n",
              "1993-12-20 00:00:00-05:00   466.380005   466.899994   465.529999   465.850006   \n",
              "...                                ...          ...          ...          ...   \n",
              "2023-01-20 00:00:00-05:00  3909.040039  3972.959961  3897.860107  3972.610107   \n",
              "2023-01-23 00:00:00-05:00  3978.139893  4039.310059  3971.639893  4019.810059   \n",
              "2023-01-24 00:00:00-05:00  4001.739990  4023.919922  3989.790039  4016.949951   \n",
              "2023-01-25 00:00:00-05:00  3982.709961  4019.550049  3949.060059  4016.219971   \n",
              "2023-01-26 00:00:00-05:00  4036.080078  4061.570068  4013.290039  4060.429932   \n",
              "\n",
              "                               Volume     Tomorrow  Target  Close_Ratio_2  \\\n",
              "Date                                                                        \n",
              "1993-12-14 00:00:00-05:00   275050000   461.839996       0       0.997157   \n",
              "1993-12-15 00:00:00-05:00   331770000   463.339996       1       0.998681   \n",
              "1993-12-16 00:00:00-05:00   284620000   466.380005       1       1.001621   \n",
              "1993-12-17 00:00:00-05:00   363750000   465.850006       0       1.003270   \n",
              "1993-12-20 00:00:00-05:00   255900000   465.299988       0       0.999431   \n",
              "...                               ...          ...     ...            ...   \n",
              "2023-01-20 00:00:00-05:00  4013360000  4019.810059       1       1.009371   \n",
              "2023-01-23 00:00:00-05:00  3945210000  4016.949951       0       1.005906   \n",
              "2023-01-24 00:00:00-05:00  3320430000  4016.219971       0       0.999644   \n",
              "2023-01-25 00:00:00-05:00  3724020000  4060.429932       1       0.999909   \n",
              "2023-01-26 00:00:00-05:00  3809590000  4070.560059       1       1.005474   \n",
              "\n",
              "                           Trend_2  Close_Ratio_5  Trend_5  Close_Ratio_60  \\\n",
              "Date                                                                         \n",
              "1993-12-14 00:00:00-05:00      1.0       0.996617      1.0        1.000283   \n",
              "1993-12-15 00:00:00-05:00      0.0       0.995899      1.0        0.997329   \n",
              "1993-12-16 00:00:00-05:00      1.0       0.999495      2.0        1.000311   \n",
              "1993-12-17 00:00:00-05:00      2.0       1.004991      3.0        1.006561   \n",
              "1993-12-20 00:00:00-05:00      1.0       1.003784      2.0        1.005120   \n",
              "...                            ...            ...      ...             ...   \n",
              "2023-01-20 00:00:00-05:00      1.0       1.003672      2.0        1.015874   \n",
              "2023-01-23 00:00:00-05:00      2.0       1.014535      2.0        1.027240   \n",
              "2023-01-24 00:00:00-05:00      1.0       1.012485      2.0        1.025695   \n",
              "2023-01-25 00:00:00-05:00      0.0       1.007863      2.0        1.024598   \n",
              "2023-01-26 00:00:00-05:00      1.0       1.010760      3.0        1.035175   \n",
              "\n",
              "                           Trend_60  Close_Ratio_250  Trend_250  \\\n",
              "Date                                                              \n",
              "1993-12-14 00:00:00-05:00      32.0         1.028047      127.0   \n",
              "1993-12-15 00:00:00-05:00      32.0         1.025151      126.0   \n",
              "1993-12-16 00:00:00-05:00      32.0         1.028274      127.0   \n",
              "1993-12-17 00:00:00-05:00      32.0         1.034781      128.0   \n",
              "1993-12-20 00:00:00-05:00      32.0         1.033359      128.0   \n",
              "...                             ...              ...        ...   \n",
              "2023-01-20 00:00:00-05:00      26.0         0.978884      111.0   \n",
              "2023-01-23 00:00:00-05:00      26.0         0.990896      111.0   \n",
              "2023-01-24 00:00:00-05:00      26.0         0.990522      111.0   \n",
              "2023-01-25 00:00:00-05:00      26.0         0.990669      111.0   \n",
              "2023-01-26 00:00:00-05:00      26.0         1.001837      112.0   \n",
              "\n",
              "                           Close_Ratio_1000  Trend_1000  \n",
              "Date                                                     \n",
              "1993-12-14 00:00:00-05:00          1.176082       512.0  \n",
              "1993-12-15 00:00:00-05:00          1.172676       512.0  \n",
              "1993-12-16 00:00:00-05:00          1.176163       513.0  \n",
              "1993-12-17 00:00:00-05:00          1.183537       514.0  \n",
              "1993-12-20 00:00:00-05:00          1.181856       513.0  \n",
              "...                                     ...         ...  \n",
              "2023-01-20 00:00:00-05:00          1.088361       538.0  \n",
              "2023-01-23 00:00:00-05:00          1.100897       538.0  \n",
              "2023-01-24 00:00:00-05:00          1.099724       537.0  \n",
              "2023-01-25 00:00:00-05:00          1.099140       536.0  \n",
              "2023-01-26 00:00:00-05:00          1.110835       537.0  \n",
              "\n",
              "[7332 rows x 17 columns]"
            ],
            "text/html": [
              "\n",
              "  <div id=\"df-b9fd132c-8a37-4c67-8dc6-0fc229aeee8f\">\n",
              "    <div class=\"colab-df-container\">\n",
              "      <div>\n",
              "<style scoped>\n",
              "    .dataframe tbody tr th:only-of-type {\n",
              "        vertical-align: middle;\n",
              "    }\n",
              "\n",
              "    .dataframe tbody tr th {\n",
              "        vertical-align: top;\n",
              "    }\n",
              "\n",
              "    .dataframe thead th {\n",
              "        text-align: right;\n",
              "    }\n",
              "</style>\n",
              "<table border=\"1\" class=\"dataframe\">\n",
              "  <thead>\n",
              "    <tr style=\"text-align: right;\">\n",
              "      <th></th>\n",
              "      <th>Open</th>\n",
              "      <th>High</th>\n",
              "      <th>Low</th>\n",
              "      <th>Close</th>\n",
              "      <th>Volume</th>\n",
              "      <th>Tomorrow</th>\n",
              "      <th>Target</th>\n",
              "      <th>Close_Ratio_2</th>\n",
              "      <th>Trend_2</th>\n",
              "      <th>Close_Ratio_5</th>\n",
              "      <th>Trend_5</th>\n",
              "      <th>Close_Ratio_60</th>\n",
              "      <th>Trend_60</th>\n",
              "      <th>Close_Ratio_250</th>\n",
              "      <th>Trend_250</th>\n",
              "      <th>Close_Ratio_1000</th>\n",
              "      <th>Trend_1000</th>\n",
              "    </tr>\n",
              "    <tr>\n",
              "      <th>Date</th>\n",
              "      <th></th>\n",
              "      <th></th>\n",
              "      <th></th>\n",
              "      <th></th>\n",
              "      <th></th>\n",
              "      <th></th>\n",
              "      <th></th>\n",
              "      <th></th>\n",
              "      <th></th>\n",
              "      <th></th>\n",
              "      <th></th>\n",
              "      <th></th>\n",
              "      <th></th>\n",
              "      <th></th>\n",
              "      <th></th>\n",
              "      <th></th>\n",
              "      <th></th>\n",
              "    </tr>\n",
              "  </thead>\n",
              "  <tbody>\n",
              "    <tr>\n",
              "      <th>1993-12-14 00:00:00-05:00</th>\n",
              "      <td>465.730011</td>\n",
              "      <td>466.119995</td>\n",
              "      <td>462.459991</td>\n",
              "      <td>463.059998</td>\n",
              "      <td>275050000</td>\n",
              "      <td>461.839996</td>\n",
              "      <td>0</td>\n",
              "      <td>0.997157</td>\n",
              "      <td>1.0</td>\n",
              "      <td>0.996617</td>\n",
              "      <td>1.0</td>\n",
              "      <td>1.000283</td>\n",
              "      <td>32.0</td>\n",
              "      <td>1.028047</td>\n",
              "      <td>127.0</td>\n",
              "      <td>1.176082</td>\n",
              "      <td>512.0</td>\n",
              "    </tr>\n",
              "    <tr>\n",
              "      <th>1993-12-15 00:00:00-05:00</th>\n",
              "      <td>463.059998</td>\n",
              "      <td>463.690002</td>\n",
              "      <td>461.839996</td>\n",
              "      <td>461.839996</td>\n",
              "      <td>331770000</td>\n",
              "      <td>463.339996</td>\n",
              "      <td>1</td>\n",
              "      <td>0.998681</td>\n",
              "      <td>0.0</td>\n",
              "      <td>0.995899</td>\n",
              "      <td>1.0</td>\n",
              "      <td>0.997329</td>\n",
              "      <td>32.0</td>\n",
              "      <td>1.025151</td>\n",
              "      <td>126.0</td>\n",
              "      <td>1.172676</td>\n",
              "      <td>512.0</td>\n",
              "    </tr>\n",
              "    <tr>\n",
              "      <th>1993-12-16 00:00:00-05:00</th>\n",
              "      <td>461.859985</td>\n",
              "      <td>463.980011</td>\n",
              "      <td>461.859985</td>\n",
              "      <td>463.339996</td>\n",
              "      <td>284620000</td>\n",
              "      <td>466.380005</td>\n",
              "      <td>1</td>\n",
              "      <td>1.001621</td>\n",
              "      <td>1.0</td>\n",
              "      <td>0.999495</td>\n",
              "      <td>2.0</td>\n",
              "      <td>1.000311</td>\n",
              "      <td>32.0</td>\n",
              "      <td>1.028274</td>\n",
              "      <td>127.0</td>\n",
              "      <td>1.176163</td>\n",
              "      <td>513.0</td>\n",
              "    </tr>\n",
              "    <tr>\n",
              "      <th>1993-12-17 00:00:00-05:00</th>\n",
              "      <td>463.339996</td>\n",
              "      <td>466.380005</td>\n",
              "      <td>463.339996</td>\n",
              "      <td>466.380005</td>\n",
              "      <td>363750000</td>\n",
              "      <td>465.850006</td>\n",
              "      <td>0</td>\n",
              "      <td>1.003270</td>\n",
              "      <td>2.0</td>\n",
              "      <td>1.004991</td>\n",
              "      <td>3.0</td>\n",
              "      <td>1.006561</td>\n",
              "      <td>32.0</td>\n",
              "      <td>1.034781</td>\n",
              "      <td>128.0</td>\n",
              "      <td>1.183537</td>\n",
              "      <td>514.0</td>\n",
              "    </tr>\n",
              "    <tr>\n",
              "      <th>1993-12-20 00:00:00-05:00</th>\n",
              "      <td>466.380005</td>\n",
              "      <td>466.899994</td>\n",
              "      <td>465.529999</td>\n",
              "      <td>465.850006</td>\n",
              "      <td>255900000</td>\n",
              "      <td>465.299988</td>\n",
              "      <td>0</td>\n",
              "      <td>0.999431</td>\n",
              "      <td>1.0</td>\n",
              "      <td>1.003784</td>\n",
              "      <td>2.0</td>\n",
              "      <td>1.005120</td>\n",
              "      <td>32.0</td>\n",
              "      <td>1.033359</td>\n",
              "      <td>128.0</td>\n",
              "      <td>1.181856</td>\n",
              "      <td>513.0</td>\n",
              "    </tr>\n",
              "    <tr>\n",
              "      <th>...</th>\n",
              "      <td>...</td>\n",
              "      <td>...</td>\n",
              "      <td>...</td>\n",
              "      <td>...</td>\n",
              "      <td>...</td>\n",
              "      <td>...</td>\n",
              "      <td>...</td>\n",
              "      <td>...</td>\n",
              "      <td>...</td>\n",
              "      <td>...</td>\n",
              "      <td>...</td>\n",
              "      <td>...</td>\n",
              "      <td>...</td>\n",
              "      <td>...</td>\n",
              "      <td>...</td>\n",
              "      <td>...</td>\n",
              "      <td>...</td>\n",
              "    </tr>\n",
              "    <tr>\n",
              "      <th>2023-01-20 00:00:00-05:00</th>\n",
              "      <td>3909.040039</td>\n",
              "      <td>3972.959961</td>\n",
              "      <td>3897.860107</td>\n",
              "      <td>3972.610107</td>\n",
              "      <td>4013360000</td>\n",
              "      <td>4019.810059</td>\n",
              "      <td>1</td>\n",
              "      <td>1.009371</td>\n",
              "      <td>1.0</td>\n",
              "      <td>1.003672</td>\n",
              "      <td>2.0</td>\n",
              "      <td>1.015874</td>\n",
              "      <td>26.0</td>\n",
              "      <td>0.978884</td>\n",
              "      <td>111.0</td>\n",
              "      <td>1.088361</td>\n",
              "      <td>538.0</td>\n",
              "    </tr>\n",
              "    <tr>\n",
              "      <th>2023-01-23 00:00:00-05:00</th>\n",
              "      <td>3978.139893</td>\n",
              "      <td>4039.310059</td>\n",
              "      <td>3971.639893</td>\n",
              "      <td>4019.810059</td>\n",
              "      <td>3945210000</td>\n",
              "      <td>4016.949951</td>\n",
              "      <td>0</td>\n",
              "      <td>1.005906</td>\n",
              "      <td>2.0</td>\n",
              "      <td>1.014535</td>\n",
              "      <td>2.0</td>\n",
              "      <td>1.027240</td>\n",
              "      <td>26.0</td>\n",
              "      <td>0.990896</td>\n",
              "      <td>111.0</td>\n",
              "      <td>1.100897</td>\n",
              "      <td>538.0</td>\n",
              "    </tr>\n",
              "    <tr>\n",
              "      <th>2023-01-24 00:00:00-05:00</th>\n",
              "      <td>4001.739990</td>\n",
              "      <td>4023.919922</td>\n",
              "      <td>3989.790039</td>\n",
              "      <td>4016.949951</td>\n",
              "      <td>3320430000</td>\n",
              "      <td>4016.219971</td>\n",
              "      <td>0</td>\n",
              "      <td>0.999644</td>\n",
              "      <td>1.0</td>\n",
              "      <td>1.012485</td>\n",
              "      <td>2.0</td>\n",
              "      <td>1.025695</td>\n",
              "      <td>26.0</td>\n",
              "      <td>0.990522</td>\n",
              "      <td>111.0</td>\n",
              "      <td>1.099724</td>\n",
              "      <td>537.0</td>\n",
              "    </tr>\n",
              "    <tr>\n",
              "      <th>2023-01-25 00:00:00-05:00</th>\n",
              "      <td>3982.709961</td>\n",
              "      <td>4019.550049</td>\n",
              "      <td>3949.060059</td>\n",
              "      <td>4016.219971</td>\n",
              "      <td>3724020000</td>\n",
              "      <td>4060.429932</td>\n",
              "      <td>1</td>\n",
              "      <td>0.999909</td>\n",
              "      <td>0.0</td>\n",
              "      <td>1.007863</td>\n",
              "      <td>2.0</td>\n",
              "      <td>1.024598</td>\n",
              "      <td>26.0</td>\n",
              "      <td>0.990669</td>\n",
              "      <td>111.0</td>\n",
              "      <td>1.099140</td>\n",
              "      <td>536.0</td>\n",
              "    </tr>\n",
              "    <tr>\n",
              "      <th>2023-01-26 00:00:00-05:00</th>\n",
              "      <td>4036.080078</td>\n",
              "      <td>4061.570068</td>\n",
              "      <td>4013.290039</td>\n",
              "      <td>4060.429932</td>\n",
              "      <td>3809590000</td>\n",
              "      <td>4070.560059</td>\n",
              "      <td>1</td>\n",
              "      <td>1.005474</td>\n",
              "      <td>1.0</td>\n",
              "      <td>1.010760</td>\n",
              "      <td>3.0</td>\n",
              "      <td>1.035175</td>\n",
              "      <td>26.0</td>\n",
              "      <td>1.001837</td>\n",
              "      <td>112.0</td>\n",
              "      <td>1.110835</td>\n",
              "      <td>537.0</td>\n",
              "    </tr>\n",
              "  </tbody>\n",
              "</table>\n",
              "<p>7332 rows × 17 columns</p>\n",
              "</div>\n",
              "      <button class=\"colab-df-convert\" onclick=\"convertToInteractive('df-b9fd132c-8a37-4c67-8dc6-0fc229aeee8f')\"\n",
              "              title=\"Convert this dataframe to an interactive table.\"\n",
              "              style=\"display:none;\">\n",
              "        \n",
              "  <svg xmlns=\"http://www.w3.org/2000/svg\" height=\"24px\"viewBox=\"0 0 24 24\"\n",
              "       width=\"24px\">\n",
              "    <path d=\"M0 0h24v24H0V0z\" fill=\"none\"/>\n",
              "    <path d=\"M18.56 5.44l.94 2.06.94-2.06 2.06-.94-2.06-.94-.94-2.06-.94 2.06-2.06.94zm-11 1L8.5 8.5l.94-2.06 2.06-.94-2.06-.94L8.5 2.5l-.94 2.06-2.06.94zm10 10l.94 2.06.94-2.06 2.06-.94-2.06-.94-.94-2.06-.94 2.06-2.06.94z\"/><path d=\"M17.41 7.96l-1.37-1.37c-.4-.4-.92-.59-1.43-.59-.52 0-1.04.2-1.43.59L10.3 9.45l-7.72 7.72c-.78.78-.78 2.05 0 2.83L4 21.41c.39.39.9.59 1.41.59.51 0 1.02-.2 1.41-.59l7.78-7.78 2.81-2.81c.8-.78.8-2.07 0-2.86zM5.41 20L4 18.59l7.72-7.72 1.47 1.35L5.41 20z\"/>\n",
              "  </svg>\n",
              "      </button>\n",
              "      \n",
              "  <style>\n",
              "    .colab-df-container {\n",
              "      display:flex;\n",
              "      flex-wrap:wrap;\n",
              "      gap: 12px;\n",
              "    }\n",
              "\n",
              "    .colab-df-convert {\n",
              "      background-color: #E8F0FE;\n",
              "      border: none;\n",
              "      border-radius: 50%;\n",
              "      cursor: pointer;\n",
              "      display: none;\n",
              "      fill: #1967D2;\n",
              "      height: 32px;\n",
              "      padding: 0 0 0 0;\n",
              "      width: 32px;\n",
              "    }\n",
              "\n",
              "    .colab-df-convert:hover {\n",
              "      background-color: #E2EBFA;\n",
              "      box-shadow: 0px 1px 2px rgba(60, 64, 67, 0.3), 0px 1px 3px 1px rgba(60, 64, 67, 0.15);\n",
              "      fill: #174EA6;\n",
              "    }\n",
              "\n",
              "    [theme=dark] .colab-df-convert {\n",
              "      background-color: #3B4455;\n",
              "      fill: #D2E3FC;\n",
              "    }\n",
              "\n",
              "    [theme=dark] .colab-df-convert:hover {\n",
              "      background-color: #434B5C;\n",
              "      box-shadow: 0px 1px 3px 1px rgba(0, 0, 0, 0.15);\n",
              "      filter: drop-shadow(0px 1px 2px rgba(0, 0, 0, 0.3));\n",
              "      fill: #FFFFFF;\n",
              "    }\n",
              "  </style>\n",
              "\n",
              "      <script>\n",
              "        const buttonEl =\n",
              "          document.querySelector('#df-b9fd132c-8a37-4c67-8dc6-0fc229aeee8f button.colab-df-convert');\n",
              "        buttonEl.style.display =\n",
              "          google.colab.kernel.accessAllowed ? 'block' : 'none';\n",
              "\n",
              "        async function convertToInteractive(key) {\n",
              "          const element = document.querySelector('#df-b9fd132c-8a37-4c67-8dc6-0fc229aeee8f');\n",
              "          const dataTable =\n",
              "            await google.colab.kernel.invokeFunction('convertToInteractive',\n",
              "                                                     [key], {});\n",
              "          if (!dataTable) return;\n",
              "\n",
              "          const docLinkHtml = 'Like what you see? Visit the ' +\n",
              "            '<a target=\"_blank\" href=https://colab.research.google.com/notebooks/data_table.ipynb>data table notebook</a>'\n",
              "            + ' to learn more about interactive tables.';\n",
              "          element.innerHTML = '';\n",
              "          dataTable['output_type'] = 'display_data';\n",
              "          await google.colab.output.renderOutput(dataTable, element);\n",
              "          const docLink = document.createElement('div');\n",
              "          docLink.innerHTML = docLinkHtml;\n",
              "          element.appendChild(docLink);\n",
              "        }\n",
              "      </script>\n",
              "    </div>\n",
              "  </div>\n",
              "  "
            ]
          },
          "metadata": {},
          "execution_count": 28
        }
      ]
    },
    {
      "cell_type": "markdown",
      "source": [
        "IMPROVING OUR MODEL"
      ],
      "metadata": {
        "id": "YvzFs_4x4pmL"
      }
    },
    {
      "cell_type": "code",
      "source": [
        "model = RandomForestClassifier(n_estimators=200, min_samples_split=50, random_state=1)"
      ],
      "metadata": {
        "id": "I4rEry5E4pI7"
      },
      "execution_count": null,
      "outputs": []
    },
    {
      "cell_type": "code",
      "source": [
        "def predict(train, test, predictors, model):\n",
        "  model.fit(train[predictors], train[\"Target\"])\n",
        "  preds = model.predict_proba(test[predictors])[:,1]\n",
        "  preds[preds >= .6] = 1\n",
        "  preds[preds < .6] = 0\n",
        "  preds = pd.Series(preds, index=test.index, name=\"Predictions\")\n",
        "  combined = pd.concat([test[\"Target\"], preds], axis=1)\n",
        "  return combined"
      ],
      "metadata": {
        "id": "kaQpTWMZ5Otu"
      },
      "execution_count": null,
      "outputs": []
    },
    {
      "cell_type": "code",
      "source": [
        "predictions = backtest(sp500, model, new_predictors)"
      ],
      "metadata": {
        "id": "EZeAi4AN6bmF"
      },
      "execution_count": null,
      "outputs": []
    },
    {
      "cell_type": "code",
      "source": [
        "predictions[\"Predictions\"].value_counts()"
      ],
      "metadata": {
        "colab": {
          "base_uri": "https://localhost:8080/"
        },
        "id": "oTCYaDKoAdq4",
        "outputId": "e2f42719-3cc4-4ff4-9573-95c8e6866c65"
      },
      "execution_count": null,
      "outputs": [
        {
          "output_type": "execute_result",
          "data": {
            "text/plain": [
              "0.0    4019\n",
              "1.0     813\n",
              "Name: Predictions, dtype: int64"
            ]
          },
          "metadata": {},
          "execution_count": 32
        }
      ]
    },
    {
      "cell_type": "code",
      "source": [
        "precision_score(predictions[\"Target\"], predictions[\"Predictions\"])"
      ],
      "metadata": {
        "colab": {
          "base_uri": "https://localhost:8080/"
        },
        "id": "FZWcXSMNAv3n",
        "outputId": "d4eeced8-6db1-4cba-a273-72ef947e70f5"
      },
      "execution_count": null,
      "outputs": [
        {
          "output_type": "execute_result",
          "data": {
            "text/plain": [
              "0.5694956949569495"
            ]
          },
          "metadata": {},
          "execution_count": 33
        }
      ]
    },
    {
      "cell_type": "markdown",
      "source": [
        "NEXT STEPS WITH THE MODEL"
      ],
      "metadata": {
        "id": "nKVWXV4zBKB0"
      }
    }
  ]
}